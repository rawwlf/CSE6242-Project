{
 "metadata": {
  "kernelspec": {
   "language": "python",
   "display_name": "Python 3",
   "name": "python3"
  },
  "language_info": {
   "name": "python",
   "version": "3.10.12",
   "mimetype": "text/x-python",
   "codemirror_mode": {
    "name": "ipython",
    "version": 3
   },
   "pygments_lexer": "ipython3",
   "nbconvert_exporter": "python",
   "file_extension": ".py"
  },
  "kaggle": {
   "accelerator": "none",
   "dataSources": [
    {
     "sourceId": 7158382,
     "sourceType": "datasetVersion",
     "datasetId": 4110846
    }
   ],
   "dockerImageVersionId": 30918,
   "isInternetEnabled": true,
   "language": "python",
   "sourceType": "notebook",
   "isGpuEnabled": false
  }
 },
 "nbformat_minor": 4,
 "nbformat": 4,
 "cells": [
  {
   "metadata": {
    "ExecuteTime": {
     "end_time": "2025-03-26T23:22:43.803966Z",
     "start_time": "2025-03-26T23:22:43.788103Z"
    }
   },
   "cell_type": "code",
   "source": [
    "import pandas as pd\n",
    "import osmnx as ox\n",
    "import networkx as nx\n",
    "import requests\n",
    "import lightgbm as lgb\n",
    "from sklearn.model_selection import train_test_split\n",
    "from sklearn.metrics import mean_squared_error, r2_score\n",
    "from datetime import datetime\n",
    "import json\n",
    "import folium"
   ],
   "outputs": [],
   "execution_count": 6
  },
  {
   "metadata": {
    "ExecuteTime": {
     "end_time": "2025-03-26T23:22:44.847105Z",
     "start_time": "2025-03-26T23:22:43.823932Z"
    }
   },
   "cell_type": "code",
   "source": [
    "file_path = 'nyc_data.csv'\n",
    "df = pd.read_csv(file_path)"
   ],
   "outputs": [],
   "execution_count": 7
  },
  {
   "metadata": {
    "ExecuteTime": {
     "end_time": "2025-03-26T23:22:44.920296Z",
     "start_time": "2025-03-26T23:22:44.869737Z"
    }
   },
   "cell_type": "code",
   "source": [
    "df.fillna({\n",
    "    'WindSpeed(mph)': 0,\n",
    "    'Precipitation(in)': 0,\n",
    "    'Visibility(mi)': df['Visibility(mi)'].median(),\n",
    "    'Temperature(F)': df['Temperature(F)'].median(),\n",
    "    'Humidity(%)': df['Humidity(%)'].median()\n",
    "}, inplace=True)"
   ],
   "outputs": [],
   "execution_count": 8
  },
  {
   "metadata": {
    "ExecuteTime": {
     "end_time": "2025-03-26T23:22:45.669456Z",
     "start_time": "2025-03-26T23:22:44.935649Z"
    }
   },
   "cell_type": "code",
   "source": [
    "common_conditions = df['Weather_Conditions'].value_counts().index[:10]\n",
    "\n",
    "df['Weather_Conditions'] = df['Weather_Conditions'].apply(\n",
    "    lambda x: x if x in common_conditions else 'Other')\n",
    "\n",
    "df = pd.get_dummies(df, columns=['Weather_Conditions'], drop_first=True)\n",
    "\n",
    "df = df.loc[:, ~df.columns.duplicated()]\n",
    "df.columns.tolist()"
   ],
   "outputs": [
    {
     "data": {
      "text/plain": [
       "['Severity',\n",
       " 'Start_Lat',\n",
       " 'Start_Lng',\n",
       " 'Distance(mi)',\n",
       " 'DelayFromTypicalTraffic(mins)',\n",
       " 'DelayFromFreeFlowSpeed(mins)',\n",
       " 'Temperature(F)',\n",
       " 'Humidity(%)',\n",
       " 'Visibility(mi)',\n",
       " 'WindSpeed(mph)',\n",
       " 'Precipitation(in)',\n",
       " 'Weather_Conditions_Other',\n",
       " 'Start_Hour',\n",
       " 'Start_Minute',\n",
       " 'Start_Day',\n",
       " 'Start_Month',\n",
       " 'Start_DayOfWeek',\n",
       " 'Duration_min',\n",
       " 'Weather_Conditions_Cloudy',\n",
       " 'Weather_Conditions_Fair',\n",
       " 'Weather_Conditions_Haze',\n",
       " 'Weather_Conditions_Light Rain',\n",
       " 'Weather_Conditions_Mostly Cloudy',\n",
       " 'Weather_Conditions_Overcast',\n",
       " 'Weather_Conditions_Partly Cloudy',\n",
       " 'Weather_Conditions_Rain',\n",
       " 'Weather_Conditions_Scattered Clouds']"
      ]
     },
     "execution_count": 9,
     "metadata": {},
     "output_type": "execute_result"
    }
   ],
   "execution_count": 9
  },
  {
   "metadata": {
    "ExecuteTime": {
     "end_time": "2025-03-26T23:23:33.060883Z",
     "start_time": "2025-03-26T23:22:45.699704Z"
    }
   },
   "cell_type": "code",
   "source": [
    "X = df.drop(columns=['DelayFromTypicalTraffic(mins)'])\n",
    "y = df['DelayFromTypicalTraffic(mins)']\n",
    "\n",
    "X_train, X_test, y_train, y_test = train_test_split(X, y, test_size=0.2, random_state=42)\n",
    "\n",
    "train_set = lgb.Dataset(X_train, label=y_train)\n",
    "valid_set = lgb.Dataset(X_test, label=y_test)\n",
    "\n",
    "params = {\n",
    "    'objective': 'regression',\n",
    "    'metric': ['rmse', 'mae'],\n",
    "    'learning_rate': 0.05,\n",
    "    'num_leaves': 63,\n",
    "    'min_data_in_leaf': 20,\n",
    "    'feature_fraction': 0.8,\n",
    "    'bagging_fraction': 0.8,\n",
    "    'bagging_freq': 5,\n",
    "    'verbosity': -1,\n",
    "    'seed': 42,\n",
    "    'max_depth': -1\n",
    "}\n",
    "\n",
    "model = lgb.train(\n",
    "    params,\n",
    "    train_set=train_set,\n",
    "    valid_sets=[train_set, valid_set],\n",
    "    valid_names=['train', 'valid'],\n",
    "    num_boost_round=1000\n",
    ")\n",
    "\n",
    "y_pred = model.predict(X_test)\n",
    "print(f\"RMSE: {mean_squared_error(y_test, y_pred):.2f}\")\n",
    "print(f\"R²: {r2_score(y_test, y_pred):.4f}\")"
   ],
   "outputs": [
    {
     "name": "stdout",
     "output_type": "stream",
     "text": [
      "RMSE: 0.70\n",
      "R²: 0.8889\n"
     ]
    }
   ],
   "execution_count": 10
  },
  {
   "metadata": {
    "ExecuteTime": {
     "end_time": "2025-03-26T23:23:34.186122Z",
     "start_time": "2025-03-26T23:23:33.181474Z"
    }
   },
   "cell_type": "code",
   "source": [
    "def fetch_current_weather_nyc():\n",
    "    lat, lon = 40.7128, -74.0060\n",
    "\n",
    "    points_data = requests.get(f'https://api.weather.gov/points/{lat},{lon}').json()\n",
    "    forecast = requests.get(points_data['properties']['forecastHourly']).json()\n",
    "    hour = forecast['properties']['periods'][0]\n",
    "\n",
    "    stations = requests.get(points_data['properties']['observationStations']).json()\n",
    "    obs = requests.get(f\"{stations['features'][0]['id']}/observations/latest\").json()['properties']\n",
    "\n",
    "    visibility = obs['visibility']['value']\n",
    "    precip_mm = obs.get('precipitationLastHour', {}).get('value', 0)\n",
    "\n",
    "    return {\n",
    "        'Temperature(F)': hour['temperature'],\n",
    "        'WindSpeed(mph)': int(hour['windSpeed'].split()[0]) if hour['windSpeed'] else 0,\n",
    "        'Weather_Conditions': hour['shortForecast'],\n",
    "        'Humidity(%)': obs['relativeHumidity']['value'],\n",
    "        'Visibility(mi)': round(visibility/1609.34, 2) if visibility else df['Visibility(mi)'].median(),\n",
    "        'Precipitation(in)': round(precip_mm/25.4, 2) if precip_mm else 0\n",
    "    }\n",
    "current_weather = fetch_current_weather_nyc()\n",
    "print(\"NYC Current Weather:\", current_weather)"
   ],
   "outputs": [
    {
     "name": "stdout",
     "output_type": "stream",
     "text": [
      "NYC Current Weather: {'Temperature(F)': 47, 'WindSpeed(mph)': 14, 'Weather_Conditions': 'Chance Rain Showers', 'Humidity(%)': 29.962613333049, 'Visibility(mi)': 10.0, 'Precipitation(in)': 0}\n"
     ]
    }
   ],
   "execution_count": 11
  },
  {
   "metadata": {
    "ExecuteTime": {
     "end_time": "2025-03-26T23:31:09.675349Z",
     "start_time": "2025-03-26T23:23:34.269348Z"
    }
   },
   "cell_type": "code",
   "source": "G = ox.graph_from_place(\"New York City, NY, USA\", network_type='drive')",
   "outputs": [],
   "execution_count": 12
  },
  {
   "metadata": {
    "ExecuteTime": {
     "end_time": "2025-03-26T23:35:30.158895Z",
     "start_time": "2025-03-26T23:35:25.293469Z"
    }
   },
   "cell_type": "code",
   "source": [
    "def calculate_edge_weights(G, model, current_weather, X_columns):\n",
    "    now = datetime.now()\n",
    "    current_condition = current_weather['Weather_Conditions'].replace(\" \", \"\")\n",
    "    edges_data = []\n",
    "    for u, v, key, data in G.edges(keys=True, data=True):\n",
    "        edges_data.append({\n",
    "            'u': u,\n",
    "            'v': v,\n",
    "            'key': key,\n",
    "            'y': data.get('y', 40.7128),\n",
    "            'x': data.get('x', -74.0060),\n",
    "            'length': data.get('length', 100)\n",
    "        })\n",
    "\n",
    "    edges_df = pd.DataFrame(edges_data)\n",
    "\n",
    "    features_df = pd.DataFrame({\n",
    "        'Severity': 2,\n",
    "        'Start_Lat': edges_df['y'],\n",
    "        'Start_Lng': edges_df['x'],\n",
    "        'Distance(mi)': edges_df['length']/1609.34,\n",
    "        'Temperature(F)': current_weather['Temperature(F)'],\n",
    "        'Humidity(%)': current_weather['Humidity(%)'],\n",
    "        'Visibility(mi)': current_weather['Visibility(mi)'],\n",
    "        'WindSpeed(mph)': current_weather['WindSpeed(mph)'],\n",
    "        'Precipitation(in)': current_weather['Precipitation(in)'],\n",
    "        'Start_Hour': now.hour,\n",
    "        'Start_Minute': now.minute,\n",
    "        'Start_Day': now.day,\n",
    "        'Start_Month': now.month,\n",
    "        'Start_DayOfWeek': now.weekday(),\n",
    "        'Duration_min': 10,\n",
    "        'DelayFromFreeFlowSpeed(mins)': 0\n",
    "    })\n",
    "    weather_cols = [col for col in X_columns if col.startswith('Weather_Conditions_')]\n",
    "    for col in weather_cols:\n",
    "        features_df[col] = 0\n",
    "\n",
    "    col_condition = next((col for col in weather_cols\n",
    "                         if col.replace('Weather_Conditions_', '').replace(\" \", \"\") in current_condition),\n",
    "                        'Weather_Conditions_Other')\n",
    "    features_df[col_condition] = 1\n",
    "    features_df = features_df[X_columns]\n",
    "    predicted_delays = model.predict(features_df)\n",
    "\n",
    "    for (u, v, key), delay in zip(edges_df[['u', 'v', 'key']].itertuples(index=False), predicted_delays):\n",
    "        G.edges[u, v, key]['weight'] = max(delay, 0.1)\n",
    "\n",
    "calculate_edge_weights(G, model, current_weather, X.columns)"
   ],
   "outputs": [],
   "execution_count": 18
  },
  {
   "metadata": {
    "ExecuteTime": {
     "end_time": "2025-03-26T23:53:52.326394Z",
     "start_time": "2025-03-26T23:53:44.847782Z"
    }
   },
   "cell_type": "code",
   "source": [
    "def find_optimal_route(start, end, G):\n",
    "    start_coords = ox.geocode(start)\n",
    "    end_coords = ox.geocode(end)\n",
    "    start_node = ox.nearest_nodes(G, start_coords[1], start_coords[0])\n",
    "    end_node = ox.nearest_nodes(G, end_coords[1], end_coords[0])\n",
    "\n",
    "    for u, v, key, data in G.edges(keys=True, data=True):\n",
    "        if 'weight' not in data or data['weight'] < 0:\n",
    "            data['weight'] = max(data.get('weight', 0), 0.1)\n",
    "\n",
    "    shortest = nx.shortest_path(G, start_node, end_node, weight='length')\n",
    "    optimized = nx.shortest_path(G, start_node, end_node, weight='weight')\n",
    "\n",
    "    def get_stats(path):\n",
    "        edges = [G.edges[u, v, 0] for u, v in zip(path[:-1], path[1:])]\n",
    "        miles = sum(e['length'] for e in edges) / 1609.34\n",
    "        speeds = []\n",
    "        for e in edges:\n",
    "            if 'highway' in e:\n",
    "                road_type = e['highway']\n",
    "                if isinstance(road_type, list):\n",
    "                    road_type = road_type[0]\n",
    "                speed_map = {\n",
    "                    'motorway': 55,\n",
    "                    'trunk': 45,\n",
    "                    'primary': 35,\n",
    "                    'secondary': 30,\n",
    "                    'tertiary': 25,\n",
    "                    'residential': 20,\n",
    "                    'unclassified': 20\n",
    "                }\n",
    "                speeds.append(speed_map.get(road_type, 25))\n",
    "            else:\n",
    "                speeds.append(30)\n",
    "\n",
    "        avg_speed = sum(speeds) / len(speeds)\n",
    "        delay = sum(e['weight'] for e in edges)\n",
    "        base_time = (miles / avg_speed) * 60\n",
    "        total_time = base_time + delay\n",
    "        return round(miles, 2), round(delay, 2), round(total_time, 2), path\n",
    "\n",
    "    s_miles, s_delay, s_time, _ = get_stats(shortest)\n",
    "    o_miles, o_delay, o_time, _ = get_stats(optimized)\n",
    "\n",
    "    return {\n",
    "        'route': f\"{start} to {end}\",\n",
    "        'shortest': {'miles': s_miles, 'delay': s_delay, 'time': s_time, 'path': shortest},\n",
    "        'optimized': {'miles': o_miles, 'delay': o_delay, 'time': o_time, 'path': optimized},\n",
    "        'time_saved': round(s_time - o_time, 2)\n",
    "    }\n",
    "\n",
    "test_routes = [\n",
    "    (\"Empire State Building, NYC\", \"Times Square, NYC\"),\n",
    "    (\"Brooklyn Bridge, NYC\", \"Central Park, NYC\"),\n",
    "    (\"JFK Airport, NYC\", \"Statue of Liberty, NYC\")\n",
    "]\n",
    "\n",
    "all_results = []\n",
    "for start, end in test_routes:\n",
    "    result = find_optimal_route(start, end, G)\n",
    "    if result:\n",
    "        all_results.append(result)\n",
    "        print(f\"\\n{result['route']}:\")\n",
    "        print(f\"Shortest: {result['shortest']['miles']} miles, {result['shortest']['time']} mins\")\n",
    "        print(f\"Optimized: {result['optimized']['miles']} miles, {result['optimized']['time']} mins\")\n",
    "        print(f\"Time saved: {result['time_saved']} mins\")\n",
    "\n",
    "output = {\n",
    "    'weather': fetch_current_weather_nyc(),\n",
    "    'routes': all_results,\n",
    "    'model_stats': {\n",
    "        'RMSE': mean_squared_error(y_test, y_pred),\n",
    "        'R2': r2_score(y_test, y_pred)\n",
    "    }\n",
    "}\n",
    "\n",
    "with open('route_results.json', 'w') as f:\n",
    "    json.dump(output, f, indent=2)"
   ],
   "outputs": [
    {
     "name": "stdout",
     "output_type": "stream",
     "text": [
      "\n",
      "Empire State Building, NYC to Times Square, NYC:\n",
      "Shortest: 1.01 miles, 3.57 mins\n",
      "Optimized: 1.01 miles, 3.57 mins\n",
      "Time saved: 0.0 mins\n",
      "\n",
      "Brooklyn Bridge, NYC to Central Park, NYC:\n",
      "Shortest: 5.86 miles, 22.75 mins\n",
      "Optimized: 8.45 miles, 18.84 mins\n",
      "Time saved: 3.91 mins\n",
      "\n",
      "JFK Airport, NYC to Statue of Liberty, NYC:\n",
      "Shortest: 15.33 miles, 48.81 mins\n",
      "Optimized: 21.72 miles, 45.43 mins\n",
      "Time saved: 3.38 mins\n"
     ]
    }
   ],
   "execution_count": 35
  }
 ]
}
